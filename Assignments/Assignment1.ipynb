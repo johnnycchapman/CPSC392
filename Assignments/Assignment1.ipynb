{
 "cells": [
  {
   "cell_type": "markdown",
   "metadata": {},
   "source": [
    "# Assignment 1"
   ]
  },
  {
   "cell_type": "markdown",
   "metadata": {},
   "source": [
    "Johnny Chapman <br/>\n",
    "CPSC 392 <br/>\n",
    "Linstead <br/>\n",
    "Assignment 1\n",
    "\n",
    "References:\n",
    "https://stackoverflow.com/questions/41041364/how-to-stop-months-being-ordered-alphabetically-in-pandas-pivot-table\n",
    "\n",
    "\n",
    "517 Instances <br/>\n",
    "13 Attributes <br/>\n",
    "Numerical, Categorical data\n",
    "No missing values"
   ]
  },
  {
   "cell_type": "code",
   "execution_count": 3,
   "metadata": {},
   "outputs": [
    {
     "data": {
      "image/png": "[encoded data removed]",
      "text/plain": [
       "<Figure size 432x288 with 1 Axes>"
      ]
     },
     "metadata": {
      "needs_background": "light"
     },
     "output_type": "display_data"
    },
    {
     "name": "stdout",
     "output_type": "stream",
     "text": [
      "\n",
      "month\n",
      "jan      2\n",
      "feb     20\n",
      "mar     54\n",
      "apr      9\n",
      "may      2\n",
      "jun     17\n",
      "jul     32\n",
      "aug    184\n",
      "sep    172\n",
      "oct     15\n",
      "nov      1\n",
      "dec      9\n",
      "Name: month, dtype: int64\n"
     ]
    }
   ],
   "source": [
    "#!/usr/bin/env python3\n",
    "# -*- coding: utf-8 -*-\n",
    "\"\"\"\n",
    "Created on Thu Sep  5 10:07:07 2019\n",
    "\"\"\"\n",
    "import pandas as pd\n",
    "import matplotlib.pyplot as plt\n",
    "# Import data and set x and y variables\n",
    "data = pd.read_csv(r'/Users/johnnychapman/Desktop/Chapman/FALL19/CPSC392/Datasets/forestfires.csv')\n",
    "x = data.iloc[:,2]\n",
    "y = data.iloc[:,8]\n",
    "# Initialize month order\n",
    "months = ['jan', 'feb', 'mar', 'apr', 'may', 'jun', \n",
    "          'jul', 'aug', 'sep', 'oct', 'nov', 'dec']\n",
    "# Reset month to date order not alphabetical\n",
    "data['month'] = data['month'].astype('category', \n",
    "                                  ordered=True,\n",
    "                                  categories=months)\n",
    "# Initialize variables\n",
    "avg = data.groupby('month')['temp'].mean()\n",
    "count = data.groupby('month')['month'].count()\n",
    "length = len(avg)\n",
    "avgs = []\n",
    "\n",
    "# Add averages to a list\n",
    "for i in range(0, length):\n",
    "    avgs.append(avg[i])\n",
    "# Plot graph\n",
    "plt.bar(months, avgs)\n",
    "plt.title('Average Temperature by Month')\n",
    "plt.xlabel('Month')\n",
    "plt.ylabel('Average Temperature (Celcius)')\n",
    "plt.show();\n",
    "print()\n",
    "print(count)"
   ]
  },
  {
   "cell_type": "markdown",
   "metadata": {},
   "source": [
    "### Analysis:\n",
    "From the graph, we can see the temperature reaches it's highest point from the month of June to October. We would expect this as we enter into the summer season. In the table shown below, we see that August and September had the most forest fires with 356 in total. With this number, we can conclude that roughly 68.85% of the fires came from these two months. This type of information is crucial for knowing when to take more precautions in preventing forest fires. "
   ]
  }
 ],
 "metadata": {
  "kernelspec": {
   "display_name": "Python 3",
   "language": "python",
   "name": "python3"
  },
  "language_info": {
   "codemirror_mode": {
    "name": "ipython",
    "version": 3
   },
   "file_extension": ".py",
   "mimetype": "text/x-python",
   "name": "python",
   "nbconvert_exporter": "python",
   "pygments_lexer": "ipython3",
   "version": "3.7.3"
  }
 },
 "nbformat": 4,
 "nbformat_minor": 2
}
